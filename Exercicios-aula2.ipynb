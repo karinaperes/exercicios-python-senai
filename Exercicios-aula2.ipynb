{
 "cells": [
  {
   "cell_type": "markdown",
   "metadata": {},
   "source": [
    "1) Crie uma função chamada calcular_area_circulo que receba o raio de um\n",
    "círculo como parâmetro e retorne a área do círculo (use a fórmula A = π * r2,\n",
    "onde π pode ser aproximadamente 3.14). Exiba o resultado fora da função."
   ]
  },
  {
   "cell_type": "code",
   "execution_count": 33,
   "metadata": {},
   "outputs": [
    {
     "name": "stdout",
     "output_type": "stream",
     "text": [
      "A área do circulo é 314.00\n"
     ]
    }
   ],
   "source": [
    "def calcular_area_circulo():\n",
    "    raio = float(input('Digite o raio do circulo'))\n",
    "    a = 3.14 * raio*2\n",
    "    print(f'A área do circulo é {a:.2f}')\n",
    "\n",
    "calcular_area_circulo()"
   ]
  },
  {
   "cell_type": "markdown",
   "metadata": {},
   "source": [
    "2) Escreva uma função chamada converter_temperatura que receba uma\n",
    "temperatura em graus Celsius como parâmetro e retorne a temperatura\n",
    "convertida para Fahrenheit. Use a fórmula F=C×95+32F = C \\times \\frac{9}{5} +\n",
    "32F=C×59 +32. Exiba o resultado fora da função."
   ]
  },
  {
   "cell_type": "code",
   "execution_count": 35,
   "metadata": {},
   "outputs": [
    {
     "name": "stdout",
     "output_type": "stream",
     "text": [
      "20.0°C conversão para 68.0°F\n"
     ]
    }
   ],
   "source": [
    "def converter_temperatura():\n",
    "    C = float(input('informe a temperatura em °C'))\n",
    "    F = 9/5 * C + 32\n",
    "    print(f'{C}°C conversão para {F}°F')\n",
    "\n",
    "\n",
    "converter_temperatura()"
   ]
  },
  {
   "cell_type": "markdown",
   "metadata": {},
   "source": [
    "3) Crie um programa que solicita ao usuário uma nota (de 0 a 10) e exibe a\n",
    "mensagem correspondente:\n",
    "\"Aprovado\" se a nota for 7 ou maior.\n",
    "\"Em recuperação\" se a nota estiver entre 4 e 6.\n",
    "\"Reprovado\" se a nota for menor que 4."
   ]
  },
  {
   "cell_type": "code",
   "execution_count": 40,
   "metadata": {},
   "outputs": [
    {
     "name": "stdout",
     "output_type": "stream",
     "text": [
      "Aprovado!\n"
     ]
    }
   ],
   "source": [
    "nota = float(input('Digite uma nota de 0 a 10'))\n",
    "\n",
    "if nota >= 7:\n",
    "    print('Aprovado!')\n",
    "elif nota < 4:\n",
    "    print('Reprovado!')\n",
    "elif nota >= 4 < 6 :\n",
    "    print('Em recuperação!')\n",
    "else:\n",
    "    print('A nota deve ser entre 0 e 10')"
   ]
  },
  {
   "cell_type": "markdown",
   "metadata": {},
   "source": [
    "4) Escreva um programa que gera um número aleatório entre 1 e 100 e permite\n",
    "que o usuário tente adivinhá-lo. O programa deve informar se o palpite é maior\n",
    "ou menor que o número gerado. Use um loop while para permitir que o usuário\n",
    "faça múltiplos palpites. Dica: Utilize a variável numero_secreto =\n",
    "random.randint(1, 100) para gerar o número aleatório."
   ]
  },
  {
   "cell_type": "code",
   "execution_count": 4,
   "metadata": {},
   "outputs": [
    {
     "name": "stdout",
     "output_type": "stream",
     "text": [
      "O número secreto é maior que 2\n",
      "O número secreto é menor que 80\n",
      "O número secreto é maior que 50\n",
      "O número secreto é maior que 51\n",
      "O número secreto é maior que 55\n",
      "O número secreto é maior que 58\n",
      "O número secreto é maior que 60\n",
      "O número secreto é menor que 70\n",
      "O número secreto é maior que 65\n",
      "O número secreto é maior que 66\n",
      "Você acertou! O número secreto é 67\n"
     ]
    }
   ],
   "source": [
    "import random\n",
    "\n",
    "numero_secreto = random.randint(1, 100)\n",
    "\n",
    "while palpite != numero_secreto:\n",
    "    \n",
    "    palpite = int(input('Digite um número de 1 a 100'))\n",
    "\n",
    "    if palpite == numero_secreto:\n",
    "        print(f'Você acertou! O número secreto é {numero_secreto}')\n",
    "    elif palpite > numero_secreto:\n",
    "        print(f'O número secreto é menor que {palpite}')\n",
    "    elif palpite < numero_secreto:\n",
    "        print(f'O número secreto é maior que {palpite}')\n",
    "    else:\n",
    "        print('Digite um número inteiro de 1 a 100')\n"
   ]
  },
  {
   "cell_type": "markdown",
   "metadata": {},
   "source": [
    "5) Uma sorveteria possui um sistema de self-service de sorvetes no qual o cliente\n",
    "pode montar seu sorvete com até 4 bolas (sabores). Criar um programa que\n",
    "simule esse sistema. A montagem do sorvete segue o modelo de estrutura\n",
    "PILHA, onde os sabores são \"empilhados\" um após o outro e quando algum\n",
    "tiver que ser removido, será sempre o último da pilha.\n",
    "\n",
    "1- Adicionar sabor\n",
    "2- Remover sabor\n",
    "3- Visualizar sorvete\n",
    "4- Finalizar pedido\n",
    "======== MENSAGENS e VALIDAÇÕES ========\n",
    "Opção 1-> “Sabor adicionado!” OU “Limite de sabores atingido, remova um sabor!”\n",
    "Opção 2-> “Sabor removido!” OU “Não existem sabores adicionados!”\n",
    "Opção 3-> “\"Camada 1 - Sabor X, Camada 2 - Sabor Y, etc.” OU “Seu sorvete não\n",
    "possui sabores!”\n",
    "Opção 4-> “Pedido realizado!” OU “Adicione pelo menos um sabor!”\n",
    "\n",
    "- Criar mensagem de boas-vindas e menu funcional.\n",
    "- Criar uma lista para a pilha dos sabores.\n",
    "- Programar a opção de \"Adicionar sabor\" corretamente.\n",
    "- Programar a opção de \"Remover sabor\" corretamente.\n",
    "- Programar a opção de \"Visualizar sorvete\" corretamente.\n",
    "- Fazer as validações secundárias (lógica).\n",
    "- Mostrar mensagens para o usuário (prints)."
   ]
  },
  {
   "cell_type": "code",
   "execution_count": 30,
   "metadata": {},
   "outputs": [
    {
     "name": "stdout",
     "output_type": "stream",
     "text": [
      "Bem vindo a sorveteria 4 opções\n",
      "Sabor Morango, adicionado!\n",
      "Sabor Flocos, adicionado!\n",
      "Sabor Manga, adicionado!\n",
      "Sabor Chocolate, adicionado!\n",
      "Pedido realizado!\n"
     ]
    }
   ],
   "source": [
    "sorvete = []\n",
    "\n",
    "print('Bem vindo a sorveteria 4 opções')\n",
    "\n",
    "while True :\n",
    "\n",
    "    opcao = int(input('Selecione a opção: \\n 1-Adicionar sabor \\n 2-Remover sabor \\n 3-Visualizar sorvete \\n 4-Finalizar pedido'))\n",
    "    \n",
    "    match opcao:\n",
    "        case 1:\n",
    "            if len(sorvete) >= 4:\n",
    "                print('Limite de sabores atingido, remova um sabor!')\n",
    "            else:\n",
    "                sabor = input('Digite o sabor desejado')\n",
    "                sorvete.append(sabor)\n",
    "                print(f'Sabor {sabor}, adicionado!')\n",
    "        case 2:\n",
    "            if len(sorvete) == 0:\n",
    "                print('Não existem sabores adicionados!')\n",
    "            else:\n",
    "                excluir_sabor = sorvete.pop()                \n",
    "                print(f'Sabor {excluir_sabor}, excluído')\n",
    "        case 3:\n",
    "            if len(sorvete) == 0:\n",
    "                print('Seu sorvete não possui sabores!')\n",
    "            else:\n",
    "                for i in range(len(sorvete), -1, -1):                     \n",
    "                    print(f' Camada {i} : {sorvete[len(sorvete)-i]} \\n')\n",
    "        case 4:\n",
    "            if len(sorvete) == 0:\n",
    "                print('Adicione pelo menos um sabor!')\n",
    "            else:\n",
    "                print('Pedido realizado!')\n",
    "                break\n",
    "        case _:\n",
    "            print('Opção inválida, tente novamente!')\n",
    "\n",
    "\n",
    "   "
   ]
  },
  {
   "cell_type": "code",
   "execution_count": null,
   "metadata": {},
   "outputs": [],
   "source": []
  }
 ],
 "metadata": {
  "kernelspec": {
   "display_name": "Python 3",
   "language": "python",
   "name": "python3"
  },
  "language_info": {
   "codemirror_mode": {
    "name": "ipython",
    "version": 3
   },
   "file_extension": ".py",
   "mimetype": "text/x-python",
   "name": "python",
   "nbconvert_exporter": "python",
   "pygments_lexer": "ipython3",
   "version": "3.12.6"
  }
 },
 "nbformat": 4,
 "nbformat_minor": 2
}
