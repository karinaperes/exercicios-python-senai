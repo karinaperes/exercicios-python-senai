{
 "cells": [
  {
   "cell_type": "markdown",
   "metadata": {},
   "source": [
    "Exercício 1 \n",
    "\n",
    "Programa peça os dados de um cliente:\n",
    "Nome, Idade, Nacionalidade e Endereço\n",
    "\n",
    "Mostrar em tela: 'Cliente [nome], com [idade] anos, [nacionalidade], reside no endereço [endereço]'"
   ]
  },
  {
   "cell_type": "code",
   "execution_count": 1,
   "metadata": {},
   "outputs": [
    {
     "name": "stdout",
     "output_type": "stream",
     "text": [
      "Clente Karina, com 45 anos, Brasileira, reside no endereço Morro das Pedras\n"
     ]
    }
   ],
   "source": [
    "nome = input('Digite seu nome')\n",
    "idade = input('Digite sua idade')\n",
    "nacionalidade = input('Digite sua nacionalidade')\n",
    "endereco = input('Digite seu endereco')\n",
    "\n",
    "print(f'Clente {nome}, com {idade} anos, {nacionalidade}, reside no endereço {endereco}')"
   ]
  },
  {
   "cell_type": "markdown",
   "metadata": {},
   "source": [
    "Exercício 2\n",
    "\n",
    "Programa onde usuário digite dois números e mostre na tela a multiplicação"
   ]
  },
  {
   "cell_type": "code",
   "execution_count": 2,
   "metadata": {},
   "outputs": [
    {
     "name": "stdout",
     "output_type": "stream",
     "text": [
      "A multiplicação de 5 e 6 é igual a 30 \n"
     ]
    }
   ],
   "source": [
    "primeiro_numero = int(input('Digite o primeiro número'))\n",
    "segundo_numero = int(input('Digite o segundo número'))\n",
    "\n",
    "multiplicacao = primeiro_numero * segundo_numero\n",
    "\n",
    "print(f'A multiplicação de {primeiro_numero} e {segundo_numero} é igual a {multiplicacao} ')\n"
   ]
  },
  {
   "cell_type": "markdown",
   "metadata": {},
   "source": [
    "Exercício 3\n",
    "\n",
    "Programa que calcule a velocidade média das trilhas que você realiza.\n",
    "\n",
    "Digitar os dados de distância percorrida(km) e tempo de trilha(horas), calcular a velocidade média\n",
    "'Sua média de velocidade durante essa trilha foi de x km/h'"
   ]
  },
  {
   "cell_type": "code",
   "execution_count": 3,
   "metadata": {},
   "outputs": [
    {
     "name": "stdout",
     "output_type": "stream",
     "text": [
      "Sua média de velocidade durante essa trilha foi de 10.0 Km/h\n"
     ]
    }
   ],
   "source": [
    "distancia = float(input('Digite a distância percorrida em Km'))\n",
    "tempo = float(input('Digite o tempo de trilha em horas'))\n",
    "\n",
    "velocidade_media = distancia / tempo\n",
    "\n",
    "print(f'Sua média de velocidade durante essa trilha foi de {velocidade_media} Km/h')\n"
   ]
  },
  {
   "cell_type": "markdown",
   "metadata": {},
   "source": [
    "Exercício 4\n",
    "\n",
    "Programa para ler o número total de eleitores. \n",
    "O número de votos do candidato X, \n",
    "o número de votos do candidato Y\n",
    "\n",
    "total de votos brancos e total de votos nulos \n",
    "(a soma desses quatro, deve ser igualao total de eleitores). \n",
    "\n",
    "Calcular e escrever o percentual que cada um representa em relação ao total de eleitores."
   ]
  },
  {
   "cell_type": "code",
   "execution_count": 4,
   "metadata": {},
   "outputs": [
    {
     "name": "stdout",
     "output_type": "stream",
     "text": [
      "Candidato X: 1\n",
      " Candidato Y: 2 \n",
      " Brancos: 2 \n",
      " Nulos: 5 \n",
      " Total de votos: 10\n"
     ]
    }
   ],
   "source": [
    "x = 0\n",
    "y = 0\n",
    "branco = 0\n",
    "nulo = 0\n",
    "total_votos = 0\n",
    "i = 0\n",
    "\n",
    "while total_votos < 10:\n",
    "    voto = int(input('Digite para votar: \\n 1-Candidato X \\n 2-Candidato Y \\n 3-Branco \\n 4-Nulo'))\n",
    "    match voto:\n",
    "        case 1:\n",
    "            x += 1\n",
    "        case 2:\n",
    "            y += 1           \n",
    "        case 3:\n",
    "            branco += 1\n",
    "        case _:\n",
    "            nulo += 1   \n",
    "    \n",
    "    i += 1\n",
    "    total_votos = x + y + branco + nulo\n",
    "\n",
    "print(f'Candidato X: {x}\\n Candidato Y: {y} \\n Brancos: {branco} \\n Nulos: {nulo} \\n Total de votos: {total_votos} \\n Total de eleitores: {i}')"
   ]
  },
  {
   "cell_type": "markdown",
   "metadata": {},
   "source": [
    "Exercício 5\n",
    "\n",
    "Pousada R$280 reais a diária \n",
    "R$15 reais o café por pessoa por dia\n",
    "Você pretende passar um tempo com alguns amigos nessa pousada, sendo que todos ficarão no\n",
    "mesmo quarto. Informar a quantidade de pessoas, o número de diárias e quantas pessoas do\n",
    "grupo vão querer café diário. Mostrar na tela o total a pagar."
   ]
  },
  {
   "cell_type": "code",
   "execution_count": 5,
   "metadata": {},
   "outputs": [
    {
     "name": "stdout",
     "output_type": "stream",
     "text": [
      "Hospedes: 5 \n",
      " Diária: 2 \n",
      " Total: 578\n"
     ]
    }
   ],
   "source": [
    "valor_diaria = 280\n",
    "cafe = 15\n",
    "\n",
    "pessoas = int(input('Digite quantidade de pessoas'))\n",
    "diarias = int(input('Digite quantidade de diarias'))\n",
    "cafe_incluso = int(input('Informe quantos cafés da manhã'))\n",
    "total = cafe_incluso + cafe + diarias * valor_diaria\n",
    "print(f'Hospedes: {pessoas} \\n Diária: {diarias} \\n Total: {total}')"
   ]
  },
  {
   "cell_type": "markdown",
   "metadata": {},
   "source": [
    "Criar um programa que calcule o IMC,\n",
    "\n",
    "O usuário deve digitar o seu peso e altura,\n",
    "\n",
    "realizar o cálculo (peso / altura * altura)\n",
    "\n",
    "Mostrar o resultado na tela, com 3 casas decimais"
   ]
  },
  {
   "cell_type": "code",
   "execution_count": 9,
   "metadata": {},
   "outputs": [
    {
     "name": "stdout",
     "output_type": "stream",
     "text": [
      "O cálculo do IMC é: 24.958\n"
     ]
    }
   ],
   "source": [
    "peso = float(input('Digite seu peso'))\n",
    "altura = float(input('Digite sua altura'))\n",
    "\n",
    "imc = peso / (altura * altura)\n",
    "\n",
    "print(f'O cálculo do IMC é: {imc:.3f}')"
   ]
  },
  {
   "cell_type": "code",
   "execution_count": null,
   "metadata": {},
   "outputs": [],
   "source": []
  }
 ],
 "metadata": {
  "kernelspec": {
   "display_name": "Python 3",
   "language": "python",
   "name": "python3"
  },
  "language_info": {
   "codemirror_mode": {
    "name": "ipython",
    "version": 3
   },
   "file_extension": ".py",
   "mimetype": "text/x-python",
   "name": "python",
   "nbconvert_exporter": "python",
   "pygments_lexer": "ipython3",
   "version": "3.11.2"
  }
 },
 "nbformat": 4,
 "nbformat_minor": 2
}
